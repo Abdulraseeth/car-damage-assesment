{
  "cells": [
    {
      "cell_type": "code",
      "source": [
        "import tensorflow as tf\n",
        "from tensorflow.keras.layers import Dense, Flatten\n",
        "from tensorflow.keras.models import Model\n",
        "from tensorflow.keras.preprocessing.image import ImageDataGenerator\n",
        "from tensorflow.keras.applications.vgg16 import VGG16"
      ],
      "metadata": {
        "id": "QA-pLB2zbsMU"
      },
      "execution_count": null,
      "outputs": []
    },
    {
      "cell_type": "code",
      "source": [
        "IMG_SIZE = 256"
      ],
      "metadata": {
        "id": "A2yC383cbsjk"
      },
      "execution_count": null,
      "outputs": []
    },
    {
      "cell_type": "code",
      "source": [
        "base_model = VGG16(input_shape=(IMG_SIZE, IMG_SIZE, 3), include_top=False, weights='imagenet')\n"
      ],
      "metadata": {
        "id": "iJLV_HR_bt_J"
      },
      "execution_count": null,
      "outputs": []
    },
    {
      "cell_type": "code",
      "source": [
        "for layer in base_model.layers:\n",
        "    layer.trainable = False"
      ],
      "metadata": {
        "id": "6FoUaDy2bvTW"
      },
      "execution_count": null,
      "outputs": []
    },
    {
      "cell_type": "code",
      "source": [
        "x = Flatten()(base_model.output)\n",
        "prediction = Dense(2, activation='softmax')(x)"
      ],
      "metadata": {
        "id": "90DBN7MKbxCR"
      },
      "execution_count": null,
      "outputs": []
    },
    {
      "cell_type": "code",
      "source": [
        "model = Model(inputs=base_model.input, outputs=prediction)"
      ],
      "metadata": {
        "id": "HXKHNr2Tbyu0"
      },
      "execution_count": null,
      "outputs": []
    },
    {
      "cell_type": "code",
      "source": [
        "model.compile(loss='categorical_crossentropy', optimizer='adam', metrics=['accuracy'])"
      ],
      "metadata": {
        "id": "kyI0yzdbb0ag"
      },
      "execution_count": null,
      "outputs": []
    },
    {
      "cell_type": "code",
      "source": [
        "train_datagen = ImageDataGenerator(rescale=1./255, shear_range=0.2, zoom_range=0.2, horizontal_flip=True)"
      ],
      "metadata": {
        "id": "cij4neqob2WY"
      },
      "execution_count": null,
      "outputs": []
    },
    {
      "cell_type": "code",
      "source": [
        "test_datagen = ImageDataGenerator(rescale = 1./255)"
      ],
      "metadata": {
        "id": "NMNrvYyhq5_x"
      },
      "execution_count": null,
      "outputs": []
    },
    {
      "cell_type": "code",
      "source": [
        "training_set = train_datagen.flow_from_directory('/content/Car/Train', target_size=(IMG_SIZE, IMG_SIZE), batch_size=32, class_mode='categorical')\n"
      ],
      "metadata": {
        "colab": {
          "base_uri": "https://localhost:8080/"
        },
        "id": "JVbq2BVUb4B1",
        "outputId": "ce3d60a6-7219-436f-8d4d-d200f87d61fd"
      },
      "execution_count": null,
      "outputs": [
        {
          "output_type": "stream",
          "name": "stdout",
          "text": [
            "Found 1739 images belonging to 2 classes.\n"
          ]
        }
      ]
    },
    {
      "cell_type": "code",
      "source": [
        "validation_set = test_datagen.flow_from_directory('/content/Car/Vald', target_size=(IMG_SIZE, IMG_SIZE), batch_size=32, class_mode='categorical')"
      ],
      "metadata": {
        "colab": {
          "base_uri": "https://localhost:8080/"
        },
        "id": "YpcsERHYcLzQ",
        "outputId": "01982548-6664-4416-db4e-7a71a523201c"
      },
      "execution_count": null,
      "outputs": [
        {
          "output_type": "stream",
          "name": "stdout",
          "text": [
            "Found 314 images belonging to 2 classes.\n"
          ]
        }
      ]
    },
    {
      "cell_type": "code",
      "source": [
        "model.fit(training_set, epochs=40, validation_data=validation_set)"
      ],
      "metadata": {
        "colab": {
          "base_uri": "https://localhost:8080/"
        },
        "id": "ghG6VndvckYQ",
        "outputId": "2baa8ad8-5fde-4350-bbbd-7f778ebf5b0a"
      },
      "execution_count": null,
      "outputs": [
        {
          "output_type": "stream",
          "name": "stdout",
          "text": [
            "Epoch 1/40\n",
            "55/55 [==============================] - 32s 578ms/step - loss: 0.1010 - accuracy: 0.9638 - val_loss: 0.0421 - val_accuracy: 0.9809\n",
            "Epoch 2/40\n",
            "55/55 [==============================] - 31s 567ms/step - loss: 0.0457 - accuracy: 0.9873 - val_loss: 0.0263 - val_accuracy: 0.9873\n",
            "Epoch 3/40\n",
            "55/55 [==============================] - 32s 581ms/step - loss: 0.0362 - accuracy: 0.9862 - val_loss: 0.0193 - val_accuracy: 0.9968\n",
            "Epoch 4/40\n",
            "55/55 [==============================] - 30s 553ms/step - loss: 0.0184 - accuracy: 0.9942 - val_loss: 0.0203 - val_accuracy: 0.9904\n",
            "Epoch 5/40\n",
            "55/55 [==============================] - 31s 556ms/step - loss: 0.0126 - accuracy: 0.9971 - val_loss: 0.0235 - val_accuracy: 0.9873\n",
            "Epoch 6/40\n",
            "55/55 [==============================] - 31s 570ms/step - loss: 0.0106 - accuracy: 0.9965 - val_loss: 0.0186 - val_accuracy: 0.9936\n",
            "Epoch 7/40\n",
            "55/55 [==============================] - 32s 581ms/step - loss: 0.0069 - accuracy: 0.9994 - val_loss: 0.0211 - val_accuracy: 0.9873\n",
            "Epoch 8/40\n",
            "55/55 [==============================] - 32s 568ms/step - loss: 0.0070 - accuracy: 0.9988 - val_loss: 0.0195 - val_accuracy: 0.9873\n",
            "Epoch 9/40\n",
            "55/55 [==============================] - 31s 557ms/step - loss: 0.0049 - accuracy: 1.0000 - val_loss: 0.0208 - val_accuracy: 0.9904\n",
            "Epoch 10/40\n",
            "55/55 [==============================] - 30s 553ms/step - loss: 0.0057 - accuracy: 0.9994 - val_loss: 0.0174 - val_accuracy: 0.9936\n",
            "Epoch 11/40\n",
            "55/55 [==============================] - 32s 568ms/step - loss: 0.0034 - accuracy: 1.0000 - val_loss: 0.0161 - val_accuracy: 0.9904\n",
            "Epoch 12/40\n",
            "55/55 [==============================] - 30s 551ms/step - loss: 0.0027 - accuracy: 1.0000 - val_loss: 0.0165 - val_accuracy: 0.9904\n",
            "Epoch 13/40\n",
            "55/55 [==============================] - 32s 576ms/step - loss: 0.0058 - accuracy: 0.9994 - val_loss: 0.0187 - val_accuracy: 0.9904\n",
            "Epoch 14/40\n",
            "55/55 [==============================] - 31s 571ms/step - loss: 0.0032 - accuracy: 1.0000 - val_loss: 0.0165 - val_accuracy: 0.9904\n",
            "Epoch 15/40\n",
            "55/55 [==============================] - 31s 554ms/step - loss: 0.0016 - accuracy: 1.0000 - val_loss: 0.0198 - val_accuracy: 0.9904\n",
            "Epoch 16/40\n",
            "55/55 [==============================] - 31s 555ms/step - loss: 0.0058 - accuracy: 0.9994 - val_loss: 0.0199 - val_accuracy: 0.9968\n",
            "Epoch 17/40\n",
            "55/55 [==============================] - 31s 570ms/step - loss: 0.0064 - accuracy: 0.9977 - val_loss: 0.0149 - val_accuracy: 0.9968\n",
            "Epoch 18/40\n",
            "55/55 [==============================] - 32s 583ms/step - loss: 0.0018 - accuracy: 1.0000 - val_loss: 0.0165 - val_accuracy: 0.9904\n",
            "Epoch 19/40\n",
            "55/55 [==============================] - 31s 561ms/step - loss: 0.0022 - accuracy: 1.0000 - val_loss: 0.0137 - val_accuracy: 0.9968\n",
            "Epoch 20/40\n",
            "55/55 [==============================] - 31s 554ms/step - loss: 0.0015 - accuracy: 1.0000 - val_loss: 0.0185 - val_accuracy: 0.9904\n",
            "Epoch 21/40\n",
            "55/55 [==============================] - 31s 564ms/step - loss: 8.8830e-04 - accuracy: 1.0000 - val_loss: 0.0160 - val_accuracy: 0.9936\n",
            "Epoch 22/40\n",
            "55/55 [==============================] - 31s 569ms/step - loss: 8.2763e-04 - accuracy: 1.0000 - val_loss: 0.0147 - val_accuracy: 0.9936\n",
            "Epoch 23/40\n",
            "55/55 [==============================] - 32s 587ms/step - loss: 0.0010 - accuracy: 1.0000 - val_loss: 0.0139 - val_accuracy: 0.9904\n",
            "Epoch 24/40\n",
            "55/55 [==============================] - 30s 553ms/step - loss: 0.0011 - accuracy: 1.0000 - val_loss: 0.0155 - val_accuracy: 0.9968\n",
            "Epoch 25/40\n",
            "55/55 [==============================] - 31s 568ms/step - loss: 0.0015 - accuracy: 1.0000 - val_loss: 0.0208 - val_accuracy: 0.9904\n",
            "Epoch 26/40\n",
            "55/55 [==============================] - 31s 557ms/step - loss: 0.0019 - accuracy: 1.0000 - val_loss: 0.0212 - val_accuracy: 0.9873\n",
            "Epoch 27/40\n",
            "55/55 [==============================] - 30s 554ms/step - loss: 0.0016 - accuracy: 1.0000 - val_loss: 0.0188 - val_accuracy: 0.9904\n",
            "Epoch 28/40\n",
            "55/55 [==============================] - 32s 575ms/step - loss: 6.3117e-04 - accuracy: 1.0000 - val_loss: 0.0156 - val_accuracy: 0.9936\n",
            "Epoch 29/40\n",
            "55/55 [==============================] - 31s 562ms/step - loss: 6.5837e-04 - accuracy: 1.0000 - val_loss: 0.0151 - val_accuracy: 0.9936\n",
            "Epoch 30/40\n",
            "55/55 [==============================] - 31s 557ms/step - loss: 4.4434e-04 - accuracy: 1.0000 - val_loss: 0.0151 - val_accuracy: 0.9936\n",
            "Epoch 31/40\n",
            "55/55 [==============================] - 30s 553ms/step - loss: 5.0976e-04 - accuracy: 1.0000 - val_loss: 0.0156 - val_accuracy: 0.9936\n",
            "Epoch 32/40\n",
            "55/55 [==============================] - 31s 555ms/step - loss: 5.0790e-04 - accuracy: 1.0000 - val_loss: 0.0146 - val_accuracy: 0.9936\n",
            "Epoch 33/40\n",
            "55/55 [==============================] - 32s 583ms/step - loss: 4.9340e-04 - accuracy: 1.0000 - val_loss: 0.0147 - val_accuracy: 0.9936\n",
            "Epoch 34/40\n",
            "55/55 [==============================] - 31s 557ms/step - loss: 3.4161e-04 - accuracy: 1.0000 - val_loss: 0.0155 - val_accuracy: 0.9936\n",
            "Epoch 35/40\n",
            "55/55 [==============================] - 32s 575ms/step - loss: 7.2602e-04 - accuracy: 1.0000 - val_loss: 0.0223 - val_accuracy: 0.9873\n",
            "Epoch 36/40\n",
            "55/55 [==============================] - 30s 554ms/step - loss: 3.6381e-04 - accuracy: 1.0000 - val_loss: 0.0159 - val_accuracy: 0.9936\n",
            "Epoch 37/40\n",
            "55/55 [==============================] - 30s 551ms/step - loss: 7.2312e-04 - accuracy: 1.0000 - val_loss: 0.0155 - val_accuracy: 0.9904\n",
            "Epoch 38/40\n",
            "55/55 [==============================] - 32s 584ms/step - loss: 3.7513e-04 - accuracy: 1.0000 - val_loss: 0.0149 - val_accuracy: 0.9904\n",
            "Epoch 39/40\n",
            "55/55 [==============================] - 31s 558ms/step - loss: 5.2464e-04 - accuracy: 1.0000 - val_loss: 0.0143 - val_accuracy: 0.9968\n",
            "Epoch 40/40\n",
            "55/55 [==============================] - 31s 554ms/step - loss: 3.2829e-04 - accuracy: 1.0000 - val_loss: 0.0142 - val_accuracy: 0.9936\n"
          ]
        },
        {
          "output_type": "execute_result",
          "data": {
            "text/plain": [
              "<keras.callbacks.History at 0x7f4864369580>"
            ]
          },
          "metadata": {},
          "execution_count": 81
        }
      ]
    },
    {
      "cell_type": "code",
      "source": [
        "model.save('car.h5')"
      ],
      "metadata": {
        "id": "Il9E2dtue-yI"
      },
      "execution_count": null,
      "outputs": []
    },
    {
      "cell_type": "code",
      "source": [
        "import tensorflow as tf\n",
        "from tensorflow.keras.models import load_model\n",
        "from tensorflow.keras.preprocessing import image\n",
        "import numpy as np"
      ],
      "metadata": {
        "id": "3kcxa-R9oxbT"
      },
      "execution_count": null,
      "outputs": []
    },
    {
      "cell_type": "code",
      "source": [
        "model = load_model('/content/car.h5')"
      ],
      "metadata": {
        "id": "O5SsaJtwo8Tz"
      },
      "execution_count": null,
      "outputs": []
    },
    {
      "cell_type": "code",
      "source": [
        "img_path = '/content/Solution Architecture.jpg'\n",
        "img = image.load_img(img_path, target_size=(256, 256))\n",
        "x = image.img_to_array(img)\n",
        "x = np.expand_dims(x, axis=0)\n",
        "x = x / 255.0"
      ],
      "metadata": {
        "id": "xyL33_iqo_Fh"
      },
      "execution_count": null,
      "outputs": []
    },
    {
      "cell_type": "code",
      "source": [
        "preds = model.predict(x)"
      ],
      "metadata": {
        "colab": {
          "base_uri": "https://localhost:8080/"
        },
        "id": "ZfjcsJu5pHQX",
        "outputId": "fbbd86fe-a509-4106-9101-698d70797877"
      },
      "execution_count": null,
      "outputs": [
        {
          "output_type": "stream",
          "name": "stdout",
          "text": [
            "1/1 [==============================] - 0s 20ms/step\n"
          ]
        }
      ]
    },
    {
      "cell_type": "code",
      "source": [
        "print (preds)"
      ],
      "metadata": {
        "colab": {
          "base_uri": "https://localhost:8080/"
        },
        "id": "6qzJDPdupJI7",
        "outputId": "e987ea26-35a4-421b-a6d2-1a85cb7aa954"
      },
      "execution_count": null,
      "outputs": [
        {
          "output_type": "stream",
          "name": "stdout",
          "text": [
            "[[2.6903899e-05 9.9997306e-01]]\n"
          ]
        }
      ]
    },
    {
      "cell_type": "code",
      "source": [
        "if preds[0][0] > preds[0][1]:\n",
        "    print(\"The image is a car.\")\n",
        "else:\n",
        "    print(\"The image is not a car.\")"
      ],
      "metadata": {
        "colab": {
          "base_uri": "https://localhost:8080/"
        },
        "id": "XBX_7DIGpLcw",
        "outputId": "61197dc2-cb3b-4c72-ca05-9b43c02ed86c"
      },
      "execution_count": null,
      "outputs": [
        {
          "output_type": "stream",
          "name": "stdout",
          "text": [
            "The image is not a car.\n"
          ]
        }
      ]
    },
    {
      "cell_type": "code",
      "source": [],
      "metadata": {
        "id": "F-kfYXIzpOUd"
      },
      "execution_count": null,
      "outputs": []
    }
  ],
  "metadata": {
    "colab": {
      "provenance": []
    },
    "kernelspec": {
      "display_name": "Python 3",
      "name": "python3"
    },
    "language_info": {
      "name": "python"
    },
    "accelerator": "GPU",
    "gpuClass": "standard"
  },
  "nbformat": 4,
  "nbformat_minor": 0
}