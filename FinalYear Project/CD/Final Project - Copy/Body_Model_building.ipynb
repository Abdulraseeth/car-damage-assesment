{
  "nbformat": 4,
  "nbformat_minor": 0,
  "metadata": {
    "colab": {
      "provenance": []
    },
    "kernelspec": {
      "name": "python3",
      "display_name": "Python 3"
    },
    "language_info": {
      "name": "python"
    },
    "accelerator": "GPU",
    "gpuClass": "standard"
  },
  "cells": [
    {
      "cell_type": "code",
      "source": [
        "from tensorflow.keras.preprocessing.image import ImageDataGenerator"
      ],
      "metadata": {
        "id": "xn0DsnMBqbAk"
      },
      "execution_count": null,
      "outputs": []
    },
    {
      "cell_type": "code",
      "source": [
        "train_datagen = ImageDataGenerator(rescale=1./255,shear_range=0.1,zoom_range=0.1,horizontal_flip=True)\n",
        "test_datagen = ImageDataGenerator(rescale = 1./255)"
      ],
      "metadata": {
        "id": "NMNrvYyhq5_x"
      },
      "execution_count": null,
      "outputs": []
    },
    {
      "cell_type": "code",
      "source": [
        "training_set = train_datagen.flow_from_directory('/content/drive/MyDrive/Car Damage Dataset/body/training',\n",
        "target_size = (256, 256),\n",
        "batch_size = 10,\n",
        "class_mode = 'categorical')\n",
        "\n",
        "test_set = test_datagen.flow_from_directory('/content/drive/MyDrive/Car Damage Dataset/body/validation',\n",
        "target_size = (256, 256),\n",
        "batch_size = 10,\n",
        "class_mode = 'categorical')"
      ],
      "metadata": {
        "colab": {
          "base_uri": "https://localhost:8080/"
        },
        "id": "fsyCPIqZq-cU",
        "outputId": "cda2fd4f-8f74-4a5c-a6de-603060d3b614"
      },
      "execution_count": null,
      "outputs": [
        {
          "output_type": "stream",
          "name": "stdout",
          "text": [
            "Found 979 images belonging to 3 classes.\n",
            "Found 171 images belonging to 3 classes.\n"
          ]
        }
      ]
    },
    {
      "cell_type": "code",
      "source": [
        "from tensorflow.keras.layers import Dense, Flatten, Input\n",
        "from tensorflow.keras.models import Model\n",
        "from tensorflow.keras.preprocessing import image\n",
        "from tensorflow.keras.preprocessing.image import ImageDataGenerator, load_img\n",
        "from tensorflow.keras.applications.vgg16 import VGG16, preprocess_input\n",
        "from glob import glob\n",
        "import numpy as np\n",
        "import matplotlib.pyplot as plt"
      ],
      "metadata": {
        "id": "fNlaQ5DnunO_"
      },
      "execution_count": null,
      "outputs": []
    },
    {
      "cell_type": "code",
      "source": [
        "vgg = VGG16(input_shape=[256,256] + [3], weights='imagenet',include_top=False)"
      ],
      "metadata": {
        "id": "bgT3cfaTuqOF",
        "colab": {
          "base_uri": "https://localhost:8080/"
        },
        "outputId": "1f96756c-b192-40ce-e810-27589c95edf8"
      },
      "execution_count": null,
      "outputs": [
        {
          "output_type": "stream",
          "name": "stdout",
          "text": [
            "Downloading data from https://storage.googleapis.com/tensorflow/keras-applications/vgg16/vgg16_weights_tf_dim_ordering_tf_kernels_notop.h5\n",
            "58889256/58889256 [==============================] - 0s 0us/step\n"
          ]
        }
      ]
    },
    {
      "cell_type": "code",
      "source": [
        "# don't train existing weights\n",
        "for layer in vgg.layers:\n",
        "  layer.trainable = False"
      ],
      "metadata": {
        "id": "FMmDb_Mxuswt"
      },
      "execution_count": null,
      "outputs": []
    },
    {
      "cell_type": "code",
      "source": [
        "# our Layers - you can add more if you want\n",
        "x = Flatten()(vgg.output)"
      ],
      "metadata": {
        "id": "vP-SPW8cuvJ1"
      },
      "execution_count": null,
      "outputs": []
    },
    {
      "cell_type": "code",
      "source": [
        "prediction = Dense(3,activation='softmax')(x)"
      ],
      "metadata": {
        "id": "qeNVB_tcuwlv"
      },
      "execution_count": null,
      "outputs": []
    },
    {
      "cell_type": "code",
      "source": [
        "model1= Model(inputs=vgg.input, outputs=prediction)"
      ],
      "metadata": {
        "id": "ofUzNYWVuyde"
      },
      "execution_count": null,
      "outputs": []
    },
    {
      "cell_type": "code",
      "source": [
        "model1.summary()"
      ],
      "metadata": {
        "colab": {
          "base_uri": "https://localhost:8080/"
        },
        "id": "yec0z6yojWvr",
        "outputId": "1280105c-e894-48c5-adeb-395dd0517e94"
      },
      "execution_count": null,
      "outputs": [
        {
          "output_type": "stream",
          "name": "stdout",
          "text": [
            "Model: \"model\"\n",
            "_________________________________________________________________\n",
            " Layer (type)                Output Shape              Param #   \n",
            "=================================================================\n",
            " input_1 (InputLayer)        [(None, 256, 256, 3)]     0         \n",
            "                                                                 \n",
            " block1_conv1 (Conv2D)       (None, 256, 256, 64)      1792      \n",
            "                                                                 \n",
            " block1_conv2 (Conv2D)       (None, 256, 256, 64)      36928     \n",
            "                                                                 \n",
            " block1_pool (MaxPooling2D)  (None, 128, 128, 64)      0         \n",
            "                                                                 \n",
            " block2_conv1 (Conv2D)       (None, 128, 128, 128)     73856     \n",
            "                                                                 \n",
            " block2_conv2 (Conv2D)       (None, 128, 128, 128)     147584    \n",
            "                                                                 \n",
            " block2_pool (MaxPooling2D)  (None, 64, 64, 128)       0         \n",
            "                                                                 \n",
            " block3_conv1 (Conv2D)       (None, 64, 64, 256)       295168    \n",
            "                                                                 \n",
            " block3_conv2 (Conv2D)       (None, 64, 64, 256)       590080    \n",
            "                                                                 \n",
            " block3_conv3 (Conv2D)       (None, 64, 64, 256)       590080    \n",
            "                                                                 \n",
            " block3_pool (MaxPooling2D)  (None, 32, 32, 256)       0         \n",
            "                                                                 \n",
            " block4_conv1 (Conv2D)       (None, 32, 32, 512)       1180160   \n",
            "                                                                 \n",
            " block4_conv2 (Conv2D)       (None, 32, 32, 512)       2359808   \n",
            "                                                                 \n",
            " block4_conv3 (Conv2D)       (None, 32, 32, 512)       2359808   \n",
            "                                                                 \n",
            " block4_pool (MaxPooling2D)  (None, 16, 16, 512)       0         \n",
            "                                                                 \n",
            " block5_conv1 (Conv2D)       (None, 16, 16, 512)       2359808   \n",
            "                                                                 \n",
            " block5_conv2 (Conv2D)       (None, 16, 16, 512)       2359808   \n",
            "                                                                 \n",
            " block5_conv3 (Conv2D)       (None, 16, 16, 512)       2359808   \n",
            "                                                                 \n",
            " block5_pool (MaxPooling2D)  (None, 8, 8, 512)         0         \n",
            "                                                                 \n",
            " flatten (Flatten)           (None, 32768)             0         \n",
            "                                                                 \n",
            " dense (Dense)               (None, 3)                 98307     \n",
            "                                                                 \n",
            "=================================================================\n",
            "Total params: 14,812,995\n",
            "Trainable params: 98,307\n",
            "Non-trainable params: 14,714,688\n",
            "_________________________________________________________________\n"
          ]
        }
      ]
    },
    {
      "cell_type": "code",
      "source": [
        "model1.compile(loss='categorical_crossentropy', optimizer='adam', metrics=['acc'])"
      ],
      "metadata": {
        "id": "b156soZSu2W0"
      },
      "execution_count": null,
      "outputs": []
    },
    {
      "cell_type": "code",
      "source": [
        "from tensorflow.keras.models import load_model\n",
        "import cv2\n",
        "from skimage.transform import resize"
      ],
      "metadata": {
        "id": "ee84mpvk3b-d"
      },
      "execution_count": null,
      "outputs": []
    },
    {
      "cell_type": "code",
      "source": [
        "import sys\n",
        "r=model1.fit_generator(\n",
        "training_set,\n",
        "validation_data=test_set,\n",
        "epochs=25,\n",
        "steps_per_epoch=979//10,\n",
        "validation_steps=171//10)"
      ],
      "metadata": {
        "colab": {
          "base_uri": "https://localhost:8080/"
        },
        "id": "7WqpQGWFu5nc",
        "outputId": "716e8ab1-1bdb-4bd9-e7a7-feaf3cf17495"
      },
      "execution_count": null,
      "outputs": [
        {
          "metadata": {
            "tags": null
          },
          "name": "stderr",
          "output_type": "stream",
          "text": [
            "/usr/local/lib/python3.7/dist-packages/ipykernel_launcher.py:7: UserWarning: `Model.fit_generator` is deprecated and will be removed in a future version. Please use `Model.fit`, which supports generators.\n",
            "  import sys\n"
          ]
        },
        {
          "output_type": "stream",
          "name": "stdout",
          "text": [
            "Epoch 1/25\n",
            "97/97 [==============================] - 218s 2s/step - loss: 1.3064 - acc: 0.5624 - val_loss: 0.9411 - val_acc: 0.6529\n",
            "Epoch 2/25\n",
            "97/97 [==============================] - 17s 175ms/step - loss: 0.7407 - acc: 0.7245 - val_loss: 1.0167 - val_acc: 0.6118\n",
            "Epoch 3/25\n",
            "97/97 [==============================] - 17s 175ms/step - loss: 0.5716 - acc: 0.7988 - val_loss: 1.0148 - val_acc: 0.6588\n",
            "Epoch 4/25\n",
            "97/97 [==============================] - 18s 184ms/step - loss: 0.3917 - acc: 0.8545 - val_loss: 1.0578 - val_acc: 0.6647\n",
            "Epoch 5/25\n",
            "97/97 [==============================] - 17s 174ms/step - loss: 0.3238 - acc: 0.8844 - val_loss: 1.0943 - val_acc: 0.6882\n",
            "Epoch 6/25\n",
            "97/97 [==============================] - 17s 177ms/step - loss: 0.2443 - acc: 0.9051 - val_loss: 1.1098 - val_acc: 0.7118\n",
            "Epoch 7/25\n",
            "97/97 [==============================] - 18s 184ms/step - loss: 0.1743 - acc: 0.9443 - val_loss: 1.1019 - val_acc: 0.6647\n",
            "Epoch 8/25\n",
            "97/97 [==============================] - 17s 174ms/step - loss: 0.2482 - acc: 0.9051 - val_loss: 1.3454 - val_acc: 0.6294\n",
            "Epoch 9/25\n",
            "97/97 [==============================] - 17s 176ms/step - loss: 0.1671 - acc: 0.9443 - val_loss: 1.3310 - val_acc: 0.6647\n",
            "Epoch 10/25\n",
            "97/97 [==============================] - 19s 195ms/step - loss: 0.1216 - acc: 0.9577 - val_loss: 1.3127 - val_acc: 0.6882\n",
            "Epoch 11/25\n",
            "97/97 [==============================] - 17s 179ms/step - loss: 0.0963 - acc: 0.9742 - val_loss: 1.2165 - val_acc: 0.6647\n",
            "Epoch 12/25\n",
            "97/97 [==============================] - 17s 178ms/step - loss: 0.1165 - acc: 0.9649 - val_loss: 1.8851 - val_acc: 0.6412\n",
            "Epoch 13/25\n",
            "97/97 [==============================] - 18s 187ms/step - loss: 0.1065 - acc: 0.9680 - val_loss: 1.4799 - val_acc: 0.6647\n",
            "Epoch 14/25\n",
            "97/97 [==============================] - 17s 179ms/step - loss: 0.0499 - acc: 0.9886 - val_loss: 1.1880 - val_acc: 0.6882\n",
            "Epoch 15/25\n",
            "97/97 [==============================] - 17s 176ms/step - loss: 0.0652 - acc: 0.9835 - val_loss: 1.2654 - val_acc: 0.6294\n",
            "Epoch 16/25\n",
            "97/97 [==============================] - 17s 178ms/step - loss: 0.0898 - acc: 0.9721 - val_loss: 1.5960 - val_acc: 0.6882\n",
            "Epoch 17/25\n",
            "97/97 [==============================] - 17s 178ms/step - loss: 0.0846 - acc: 0.9711 - val_loss: 1.7410 - val_acc: 0.5941\n",
            "Epoch 18/25\n",
            "97/97 [==============================] - 17s 177ms/step - loss: 0.1352 - acc: 0.9577 - val_loss: 1.3079 - val_acc: 0.6647\n",
            "Epoch 19/25\n",
            "97/97 [==============================] - 17s 177ms/step - loss: 0.1093 - acc: 0.9618 - val_loss: 1.4567 - val_acc: 0.6529\n",
            "Epoch 20/25\n",
            "97/97 [==============================] - 18s 186ms/step - loss: 0.1042 - acc: 0.9670 - val_loss: 1.7037 - val_acc: 0.6882\n",
            "Epoch 21/25\n",
            "97/97 [==============================] - 17s 178ms/step - loss: 0.0586 - acc: 0.9866 - val_loss: 1.5435 - val_acc: 0.6353\n",
            "Epoch 22/25\n",
            "97/97 [==============================] - 17s 179ms/step - loss: 0.0471 - acc: 0.9907 - val_loss: 1.4311 - val_acc: 0.6647\n",
            "Epoch 23/25\n",
            "97/97 [==============================] - 19s 195ms/step - loss: 0.0711 - acc: 0.9835 - val_loss: 1.7774 - val_acc: 0.6412\n",
            "Epoch 24/25\n",
            "97/97 [==============================] - 17s 177ms/step - loss: 0.0551 - acc: 0.9856 - val_loss: 1.5927 - val_acc: 0.6706\n",
            "Epoch 25/25\n",
            "97/97 [==============================] - 17s 177ms/step - loss: 0.0799 - acc: 0.9886 - val_loss: 1.4569 - val_acc: 0.6706\n"
          ]
        }
      ]
    },
    {
      "cell_type": "code",
      "source": [
        "model1.save('body.h5')"
      ],
      "metadata": {
        "id": "cGBKt6P_IRPd"
      },
      "execution_count": null,
      "outputs": []
    },
    {
      "cell_type": "code",
      "source": [],
      "metadata": {
        "id": "S3z1_2nM45Nu"
      },
      "execution_count": null,
      "outputs": []
    }
  ]
}